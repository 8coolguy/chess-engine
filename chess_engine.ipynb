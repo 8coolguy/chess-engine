{
 "cells": [
  {
   "cell_type": "code",
   "execution_count": 19,
   "id": "0c99b7db-2ef1-41cf-a043-51346aeb2c20",
   "metadata": {},
   "outputs": [],
   "source": [
    "import chess\n",
    "import chess.svg"
   ]
  },
  {
   "cell_type": "code",
   "execution_count": 20,
   "id": "ffb044b3-3466-478d-a728-a0645975b8e6",
   "metadata": {},
   "outputs": [],
   "source": [
    "#this functions displays the chess board. May add functions for options\n",
    "def display_board(board):\n",
    "    chess.svg.board(board)"
   ]
  },
  {
   "cell_type": "code",
   "execution_count": 21,
   "id": "cead0983",
   "metadata": {},
   "outputs": [],
   "source": [
    "def apply_move(board,move_str):\n",
    "    \"\"\"\n",
    "    Applies a move in UCI/long algebraic notation (e.g. 'e2e4', 'e7e8q') \n",
    "    to the global chess.Board() instance.\n",
    "    move_str: str, move in long algebraic/UCI notation\n",
    "    Returns the updated board.\n",
    "    \"\"\"\n",
    "    move = chess.Move.from_uci(move_str)  # parse the move\n",
    "    if move in board.legal_moves:\n",
    "        board.push(move)  # apply it\n",
    "    else:\n",
    "        raise ValueError(f\"Illegal move: {move_str}\")\n",
    "    return board"
   ]
  },
  {
   "cell_type": "code",
   "execution_count": 22,
   "id": "e0b7de9a",
   "metadata": {},
   "outputs": [],
   "source": [
    "chess_board = chess.Board()\n",
    "NAME = \"MUST WIN\"\n",
    "AUTHOR = \"IAN WONG\""
   ]
  },
  {
   "cell_type": "code",
   "execution_count": null,
   "id": "66b6031e",
   "metadata": {},
   "outputs": [],
   "source": [
    "def handleInput(command):\n",
    "    parsedCommand = command.split()\n",
    "    n = len(parsedCommand)\n",
    "    i = 0\n",
    "    if command == \"quit\": return -1\n",
    "    elif command == \"isready\": return 0\n",
    "    elif command == \"uci\": return 1\n",
    "    elif command == \"go\": return 3\n",
    "    elif parsedCommand[i] == \"position\":\n",
    "        print(\"position\")\n",
    "        i+=1\n",
    "        if parsedCommand[i] == \"fen\":\n",
    "            fen = \" \".join(parsedCommand[i+1:i+7])\n",
    "            chess_board = chess.Board(fen)\n",
    "            i += 7\n",
    "        elif parsedCommand[i] == \"startpos\":\n",
    "            chess_board = chess.Board()\n",
    "            i += 1\n",
    "        if parsedCommand[i] == \"moves\":\n",
    "            i+=1\n",
    "            while i < n:\n",
    "                chess_board = apply_move(chess_board,parsedCommand[i])\n",
    "                i+=1\n",
    "                print(chess_board)\n",
    "        return 2"
   ]
  },
  {
   "cell_type": "code",
   "execution_count": null,
   "id": "01af4282",
   "metadata": {},
   "outputs": [],
   "source": [
    "#uses the minimax algorithm at depth 5 to determine the best move on the chess board\n",
    "#used the point system example on the blog: https://healeycodes.com/building-my-own-chess-engine\n",
    "def determineBestMove(board):\n",
    "    pass"
   ]
  },
  {
   "cell_type": "code",
   "execution_count": null,
   "id": "2790affc",
   "metadata": {},
   "outputs": [],
   "source": [
    "def handleOutput(command):\n",
    "    if not command: print(\"readyok\")\n",
    "    elif command == 1:\n",
    "        if NAME: print(\"id name \" + NAME)\n",
    "        if AUTHOR: print(\"id author \" + AUTHOR)\n",
    "        #add functionality for options that can be changed\n",
    "        print(\"uciok\")\n",
    "    elif command == 3:\n",
    "        move = determineBestMove(chess_board)\n",
    "        print(\"bestmove \" + move)\n",
    "        apply_move(chess_board, move)\n",
    "    \n",
    "        "
   ]
  },
  {
   "cell_type": "code",
   "execution_count": 39,
   "id": "16d07e29-500b-4e05-b2fd-3c0926627bb1",
   "metadata": {},
   "outputs": [],
   "source": [
    "def main():\n",
    "    playing = True\n",
    "    while playing:\n",
    "        command = input()\n",
    "        res = handleInput(command)\n",
    "        handleOutput(res)\n",
    "        display_board(chess_board)\n",
    "        if res == -1:\n",
    "            playing = False\n"
   ]
  },
  {
   "cell_type": "code",
   "execution_count": 40,
   "id": "f62b49ed",
   "metadata": {},
   "outputs": [
    {
     "name": "stdout",
     "output_type": "stream",
     "text": [
      "position\n",
      "r . b q . r k .\n",
      "p p p . n p b p\n",
      ". n . p p . p .\n",
      ". . . . . . . .\n",
      ". . P P P P . .\n",
      ". . N B . N . .\n",
      "P P . . . . P P\n",
      "R . B Q . R K .\n"
     ]
    }
   ],
   "source": [
    "main()"
   ]
  },
  {
   "cell_type": "code",
   "execution_count": null,
   "id": "79a3aa41",
   "metadata": {},
   "outputs": [],
   "source": []
  }
 ],
 "metadata": {
  "kernelspec": {
   "display_name": "my_project_kernel",
   "language": "python",
   "name": "my_project_kernel"
  },
  "language_info": {
   "codemirror_mode": {
    "name": "ipython",
    "version": 3
   },
   "file_extension": ".py",
   "mimetype": "text/x-python",
   "name": "python",
   "nbconvert_exporter": "python",
   "pygments_lexer": "ipython3",
   "version": "3.13.2"
  }
 },
 "nbformat": 4,
 "nbformat_minor": 5
}
