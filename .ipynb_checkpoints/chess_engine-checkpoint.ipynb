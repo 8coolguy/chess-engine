{
 "cells": [
  {
   "cell_type": "code",
   "execution_count": 1,
   "id": "0c99b7db-2ef1-41cf-a043-51346aeb2c20",
   "metadata": {},
   "outputs": [],
   "source": [
    "import chess\n",
    "import chess.svg"
   ]
  },
  {
   "cell_type": "code",
   "execution_count": 2,
   "id": "df61118b-0d10-4c23-8e6b-1dafe2dcb9a4",
   "metadata": {},
   "outputs": [],
   "source": [
    "#global board variable\n",
    "chess_board = chess.Board()"
   ]
  },
  {
   "cell_type": "code",
   "execution_count": 3,
   "id": "ffb044b3-3466-478d-a728-a0645975b8e6",
   "metadata": {},
   "outputs": [],
   "source": [
    "#this functions displays the chess board. May add functions for options\n",
    "def display_board(board):\n",
    "    chess.svg.board(board)"
   ]
  },
  {
   "cell_type": "code",
   "execution_count": null,
   "id": "b7a36c18-8c0e-41ea-8518-9be8b314bb27",
   "metadata": {},
   "outputs": [],
   "source": []
  }
 ],
 "metadata": {
  "kernelspec": {
   "display_name": "Python 3 (ipykernel)",
   "language": "python",
   "name": "python3"
  },
  "language_info": {
   "codemirror_mode": {
    "name": "ipython",
    "version": 3
   },
   "file_extension": ".py",
   "mimetype": "text/x-python",
   "name": "python",
   "nbconvert_exporter": "python",
   "pygments_lexer": "ipython3",
   "version": "3.13.2"
  }
 },
 "nbformat": 4,
 "nbformat_minor": 5
}
