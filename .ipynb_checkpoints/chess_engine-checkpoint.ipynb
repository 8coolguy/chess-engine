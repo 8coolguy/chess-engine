{
 "cells": [
  {
   "cell_type": "code",
   "execution_count": 150,
   "id": "0c99b7db-2ef1-41cf-a043-51346aeb2c20",
   "metadata": {},
   "outputs": [],
   "source": [
    "import chess\n",
    "import chess.svg\n",
    "from tqdm import tqdm"
   ]
  },
  {
   "cell_type": "code",
   "execution_count": 131,
   "id": "4c0eda10",
   "metadata": {},
   "outputs": [],
   "source": [
    "piece_values = {\n",
    "    chess.PAWN: 100,\n",
    "    chess.ROOK: 500,\n",
    "    chess.KNIGHT: 320,\n",
    "    chess.BISHOP: 330,\n",
    "    chess.QUEEN: 900,\n",
    "    chess.KING: 20000\n",
    "}\n",
    "DEPTH_LIMIT = 3"
   ]
  },
  {
   "cell_type": "code",
   "execution_count": 51,
   "id": "ffb044b3-3466-478d-a728-a0645975b8e6",
   "metadata": {
    "editable": true,
    "slideshow": {
     "slide_type": ""
    },
    "tags": []
   },
   "outputs": [],
   "source": [
    "#this functions displays the chess board. May add functions for options\n",
    "def display_board(board):\n",
    "    chess.svg.board(board)"
   ]
  },
  {
   "cell_type": "code",
   "execution_count": 134,
   "id": "cead0983",
   "metadata": {},
   "outputs": [],
   "source": [
    "def apply_move(board,move_str):\n",
    "    \"\"\"\n",
    "    Applies a move in UCI/long algebraic notation (e.g. 'e2e4', 'e7e8q') \n",
    "    to the global chess.Board() instance.\n",
    "    move_str: str, move in long algebraic/UCI notation\n",
    "    Returns the updated board.\n",
    "    \"\"\"\n",
    "    move = chess.Move.from_uci(move_str)  # parse the move\n",
    "    if move in board.legal_moves:\n",
    "        board.push(move)  # apply it\n",
    "    else:\n",
    "        raise ValueError(f\"Illegal move: {move_str}\")\n",
    "    return board"
   ]
  },
  {
   "cell_type": "code",
   "execution_count": 135,
   "id": "e0b7de9a",
   "metadata": {},
   "outputs": [],
   "source": [
    "chess_board = chess.Board()\n",
    "NAME = \"MUST WIN\"\n",
    "AUTHOR = \"IAN WONG\""
   ]
  },
  {
   "cell_type": "code",
   "execution_count": 136,
   "id": "66b6031e",
   "metadata": {},
   "outputs": [],
   "source": [
    "def handleInput(command):\n",
    "    parsedCommand = command.split()\n",
    "    n = len(parsedCommand)\n",
    "    i = 0\n",
    "    if command == \"quit\": return -1\n",
    "    elif command == \"isready\": return 0\n",
    "    elif command == \"uci\": return 1\n",
    "    elif command == \"go\": return 3\n",
    "    elif parsedCommand[i] == \"position\":\n",
    "        print(\"position\")\n",
    "        i+=1\n",
    "        if parsedCommand[i] == \"fen\":\n",
    "            fen = \" \".join(parsedCommand[i+1:i+7])\n",
    "            chess_board = chess.Board(fen)\n",
    "            i += 7\n",
    "        elif parsedCommand[i] == \"startpos\":\n",
    "            chess_board = chess.Board()\n",
    "            i += 1\n",
    "        if parsedCommand[i] == \"moves\":\n",
    "            i+=1\n",
    "            while i < n:\n",
    "                chess_board = apply_move(chess_board,parsedCommand[i])\n",
    "                i+=1\n",
    "                print(chess_board)\n",
    "        return 2"
   ]
  },
  {
   "cell_type": "code",
   "execution_count": 151,
   "id": "01af4282",
   "metadata": {},
   "outputs": [],
   "source": [
    "def minimax_root(board:chess.Board) -> chess.Move: \n",
    "    moves = list(board.legal_moves)\n",
    "    bestMove, evaluation = moves[0], float(\"inf\")\n",
    "    for move in tqdm(moves):\n",
    "        board.push(move)\n",
    "        score = minimax(board, 0)\n",
    "        if score < evaluation:\n",
    "            evaluation = score\n",
    "            bestMove = move\n",
    "        board.pop()\n",
    "    return bestMove\n",
    "    \n",
    " \n",
    "#uses the minimax algorithm at depth 5 to determine the best move on the chess board\n",
    "#used the point system example on the blog: https://healeycodes.com/building-my-own-chess-engine\n",
    "def minimax(board:chess.Board, depth = 0) -> float:\n",
    "    moves = list(board.legal_moves)\n",
    "    if depth == DEPTH_LIMIT or board.is_game_over(): \n",
    "        return calculate_score(board)\n",
    "    #pick best score for the opponent\n",
    "    if depth % 2:\n",
    "        value = float(\"-inf\")\n",
    "        for move in moves:\n",
    "            board.push(move)\n",
    "            temp = minimax(board,depth+1)\n",
    "            value = max(value,temp)\n",
    "            board.pop()\n",
    "        return value\n",
    "    else:\n",
    "        value = float(\"inf\")\n",
    "        for move in moves:\n",
    "            board.push(move)\n",
    "            temp = minimax(board,depth+1)\n",
    "            value = min(value,temp)\n",
    "            board.pop()\n",
    "        return value\n",
    "    \n",
    "def determineBestMove(board, depth = 0):\n",
    "    pass"
   ]
  },
  {
   "cell_type": "code",
   "execution_count": 138,
   "id": "2790affc",
   "metadata": {},
   "outputs": [],
   "source": [
    "def handleOutput(command):\n",
    "    if not command: print(\"readyok\")\n",
    "    elif command == 1:\n",
    "        if NAME: print(\"id name \" + NAME)\n",
    "        if AUTHOR: print(\"id author \" + AUTHOR)\n",
    "        #add functionality for options that can be changed\n",
    "        print(\"uciok\")\n",
    "    elif command == 3:\n",
    "        move = determineBestMove(chess_board)\n",
    "        print(\"bestmove \" + move)\n",
    "        apply_move(chess_board, move)\n",
    "    \n",
    "        "
   ]
  },
  {
   "cell_type": "code",
   "execution_count": 139,
   "id": "e4f61be6",
   "metadata": {},
   "outputs": [],
   "source": [
    "def calculate_score(board:chess):\n",
    "    black_score,white_score = 0,0\n",
    "    for square in chess.SQUARES:\n",
    "        at_square = board.piece_at(square)\n",
    "        if not at_square: continue\n",
    "        if at_square.color == chess.WHITE:\n",
    "            white_score += piece_values[at_square.piece_type]\n",
    "        else:\n",
    "            black_score += piece_values[at_square.piece_type]\n",
    "    if board.turn == chess.WHITE: return white_score\n",
    "    else: return black_score\n",
    "\n",
    "\n"
   ]
  },
  {
   "cell_type": "code",
   "execution_count": 140,
   "id": "16d07e29-500b-4e05-b2fd-3c0926627bb1",
   "metadata": {},
   "outputs": [],
   "source": [
    "def main():\n",
    "    playing = True\n",
    "    while playing:\n",
    "        command = input()\n",
    "        res = handleInput(command)\n",
    "        handleOutput(res)\n",
    "        display_board(chess_board)\n",
    "        if res == -1:\n",
    "            playing = False\n"
   ]
  },
  {
   "cell_type": "code",
   "execution_count": 143,
   "id": "f62b49ed",
   "metadata": {},
   "outputs": [
    {
     "name": "stdin",
     "output_type": "stream",
     "text": [
      " quit\n"
     ]
    }
   ],
   "source": [
    "main()"
   ]
  },
  {
   "cell_type": "code",
   "execution_count": null,
   "id": "63cdb1df-57af-48a1-956b-489fa05e8290",
   "metadata": {
    "scrolled": true
   },
   "outputs": [],
   "source": [
    "board = chess.Board(\"r1bqk2r/ppp1npbp/1n1pp1p1/8/2PPPP2/2NB1N2/PP4PP/R1BQ1RK1 b kq - 5 8\")\n",
    "while not board.is_checkmate():\n",
    "    bestMove = minimax_root(board)\n",
    "    print(bestMove,evaluation)\n",
    "    board.push(bestMove)\n",
    "    chess.svg.board(board)\n",
    "    print(board)\n"
   ]
  },
  {
   "cell_type": "code",
   "execution_count": null,
   "id": "d9b79534-d626-4518-90b4-dedd66402551",
   "metadata": {},
   "outputs": [],
   "source": []
  },
  {
   "cell_type": "code",
   "execution_count": null,
   "id": "d573c7e0-4648-463b-b823-81161a4127e6",
   "metadata": {},
   "outputs": [],
   "source": []
  }
 ],
 "metadata": {
  "kernelspec": {
   "display_name": "Python 3 (ipykernel)",
   "language": "python",
   "name": "python3"
  },
  "language_info": {
   "codemirror_mode": {
    "name": "ipython",
    "version": 3
   },
   "file_extension": ".py",
   "mimetype": "text/x-python",
   "name": "python",
   "nbconvert_exporter": "python",
   "pygments_lexer": "ipython3",
   "version": "3.13.2"
  }
 },
 "nbformat": 4,
 "nbformat_minor": 5
}
