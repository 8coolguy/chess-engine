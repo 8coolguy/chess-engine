{
 "cells": [
  {
   "cell_type": "code",
   "execution_count": 150,
   "id": "0c99b7db-2ef1-41cf-a043-51346aeb2c20",
   "metadata": {},
   "outputs": [],
   "source": [
    "import chess\n",
    "import chess.svg\n",
    "from tqdm import tqdm"
   ]
  },
  {
   "cell_type": "code",
   "execution_count": 131,
   "id": "4c0eda10",
   "metadata": {},
   "outputs": [],
   "source": [
    "piece_values = {\n",
    "    chess.PAWN: 100,\n",
    "    chess.ROOK: 500,\n",
    "    chess.KNIGHT: 320,\n",
    "    chess.BISHOP: 330,\n",
    "    chess.QUEEN: 900,\n",
    "    chess.KING: 20000\n",
    "}\n",
    "DEPTH_LIMIT = 3"
   ]
  },
  {
   "cell_type": "code",
   "execution_count": 51,
   "id": "ffb044b3-3466-478d-a728-a0645975b8e6",
   "metadata": {
    "editable": true,
    "slideshow": {
     "slide_type": ""
    },
    "tags": []
   },
   "outputs": [],
   "source": [
    "#this functions displays the chess board. May add functions for options\n",
    "def display_board(board):\n",
    "    chess.svg.board(board)"
   ]
  },
  {
   "cell_type": "code",
   "execution_count": 134,
   "id": "cead0983",
   "metadata": {},
   "outputs": [],
   "source": [
    "def apply_move(board,move_str):\n",
    "    \"\"\"\n",
    "    Applies a move in UCI/long algebraic notation (e.g. 'e2e4', 'e7e8q') \n",
    "    to the global chess.Board() instance.\n",
    "    move_str: str, move in long algebraic/UCI notation\n",
    "    Returns the updated board.\n",
    "    \"\"\"\n",
    "    move = chess.Move.from_uci(move_str)  # parse the move\n",
    "    if move in board.legal_moves:\n",
    "        board.push(move)  # apply it\n",
    "    else:\n",
    "        raise ValueError(f\"Illegal move: {move_str}\")\n",
    "    return board"
   ]
  },
  {
   "cell_type": "code",
   "execution_count": 135,
   "id": "e0b7de9a",
   "metadata": {},
   "outputs": [],
   "source": [
    "chess_board = chess.Board()\n",
    "NAME = \"MUST WIN\"\n",
    "AUTHOR = \"IAN WONG\""
   ]
  },
  {
   "cell_type": "code",
   "execution_count": 136,
   "id": "66b6031e",
   "metadata": {},
   "outputs": [],
   "source": [
    "def handleInput(command):\n",
    "    parsedCommand = command.split()\n",
    "    n = len(parsedCommand)\n",
    "    i = 0\n",
    "    if command == \"quit\": return -1\n",
    "    elif command == \"isready\": return 0\n",
    "    elif command == \"uci\": return 1\n",
    "    elif command == \"go\": return 3\n",
    "    elif parsedCommand[i] == \"position\":\n",
    "        print(\"position\")\n",
    "        i+=1\n",
    "        if parsedCommand[i] == \"fen\":\n",
    "            fen = \" \".join(parsedCommand[i+1:i+7])\n",
    "            chess_board = chess.Board(fen)\n",
    "            i += 7\n",
    "        elif parsedCommand[i] == \"startpos\":\n",
    "            chess_board = chess.Board()\n",
    "            i += 1\n",
    "        if parsedCommand[i] == \"moves\":\n",
    "            i+=1\n",
    "            while i < n:\n",
    "                chess_board = apply_move(chess_board,parsedCommand[i])\n",
    "                i+=1\n",
    "                print(chess_board)\n",
    "        return 2"
   ]
  },
  {
   "cell_type": "code",
   "execution_count": 151,
   "id": "01af4282",
   "metadata": {},
   "outputs": [],
   "source": [
    "def minimax_root(board:chess.Board) -> chess.Move: \n",
    "    moves = list(board.legal_moves)\n",
    "    bestMove, evaluation = moves[0], float(\"inf\")\n",
    "    for move in tqdm(moves):\n",
    "        board.push(move)\n",
    "        score = minimax(board, 0)\n",
    "        if score < evaluation:\n",
    "            evaluation = score\n",
    "            bestMove = move\n",
    "        board.pop()\n",
    "    return bestMove\n",
    "    \n",
    " \n",
    "#uses the minimax algorithm at depth 5 to determine the best move on the chess board\n",
    "#used the point system example on the blog: https://healeycodes.com/building-my-own-chess-engine\n",
    "def minimax(board:chess.Board, depth = 0) -> float:\n",
    "    moves = list(board.legal_moves)\n",
    "    if depth == DEPTH_LIMIT or board.is_game_over(): \n",
    "        return calculate_score(board)\n",
    "    #pick best score for the opponent\n",
    "    if depth % 2:\n",
    "        value = float(\"-inf\")\n",
    "        for move in moves:\n",
    "            board.push(move)\n",
    "            temp = minimax(board,depth+1)\n",
    "            value = max(value,temp)\n",
    "            board.pop()\n",
    "        return value\n",
    "    else:\n",
    "        value = float(\"inf\")\n",
    "        for move in moves:\n",
    "            board.push(move)\n",
    "            temp = minimax(board,depth+1)\n",
    "            value = min(value,temp)\n",
    "            board.pop()\n",
    "        return value\n",
    "    \n",
    "def determineBestMove(board, depth = 0):\n",
    "    pass"
   ]
  },
  {
   "cell_type": "code",
   "execution_count": 138,
   "id": "2790affc",
   "metadata": {},
   "outputs": [],
   "source": [
    "def handleOutput(command):\n",
    "    if not command: print(\"readyok\")\n",
    "    elif command == 1:\n",
    "        if NAME: print(\"id name \" + NAME)\n",
    "        if AUTHOR: print(\"id author \" + AUTHOR)\n",
    "        #add functionality for options that can be changed\n",
    "        print(\"uciok\")\n",
    "    elif command == 3:\n",
    "        move = determineBestMove(chess_board)\n",
    "        print(\"bestmove \" + move)\n",
    "        apply_move(chess_board, move)\n",
    "    \n",
    "        "
   ]
  },
  {
   "cell_type": "code",
   "execution_count": 139,
   "id": "e4f61be6",
   "metadata": {},
   "outputs": [],
   "source": [
    "def calculate_score(board:chess):\n",
    "    black_score,white_score = 0,0\n",
    "    for square in chess.SQUARES:\n",
    "        at_square = board.piece_at(square)\n",
    "        if not at_square: continue\n",
    "        if at_square.color == chess.WHITE:\n",
    "            white_score += piece_values[at_square.piece_type]\n",
    "        else:\n",
    "            black_score += piece_values[at_square.piece_type]\n",
    "    if board.turn == chess.WHITE: return white_score\n",
    "    else: return black_score\n",
    "\n",
    "\n"
   ]
  },
  {
   "cell_type": "code",
   "execution_count": 140,
   "id": "16d07e29-500b-4e05-b2fd-3c0926627bb1",
   "metadata": {},
   "outputs": [],
   "source": [
    "def main():\n",
    "    playing = True\n",
    "    while playing:\n",
    "        command = input()\n",
    "        res = handleInput(command)\n",
    "        handleOutput(res)\n",
    "        display_board(chess_board)\n",
    "        if res == -1:\n",
    "            playing = False\n"
   ]
  },
  {
   "cell_type": "code",
   "execution_count": 143,
   "id": "f62b49ed",
   "metadata": {},
   "outputs": [
    {
     "name": "stdin",
     "output_type": "stream",
     "text": [
      " quit\n"
     ]
    }
   ],
   "source": [
    "main()"
   ]
  },
  {
   "cell_type": "code",
   "execution_count": 154,
   "id": "63cdb1df-57af-48a1-956b-489fa05e8290",
   "metadata": {
    "scrolled": true
   },
   "outputs": [
    {
     "name": "stderr",
     "output_type": "stream",
     "text": [
      "100%|████████████████████████████████████████████████████████████████████████████████| 32/32 [01:05<00:00,  2.04s/it]\n"
     ]
    },
    {
     "name": "stdout",
     "output_type": "stream",
     "text": [
      "g7e5 23900\n",
      "r . b q k . . r\n",
      "p p p . n p . p\n",
      ". n . p p . p .\n",
      ". . . . b . . .\n",
      ". . P P P P . .\n",
      ". . N B . N . .\n",
      "P P . . . . P P\n",
      "R . B Q . R K .\n"
     ]
    },
    {
     "name": "stderr",
     "output_type": "stream",
     "text": [
      "100%|████████████████████████████████████████████████████████████████████████████████| 39/39 [00:57<00:00,  1.48s/it]\n"
     ]
    },
    {
     "name": "stdout",
     "output_type": "stream",
     "text": [
      "d1a4 23900\n",
      "r . b q k . . r\n",
      "p p p . n p . p\n",
      ". n . p p . p .\n",
      ". . . . b . . .\n",
      "Q . P P P P . .\n",
      ". . N B . N . .\n",
      "P P . . . . P P\n",
      "R . B . . R K .\n"
     ]
    },
    {
     "name": "stderr",
     "output_type": "stream",
     "text": [
      "100%|██████████████████████████████████████████████████████████████████████████████████| 7/7 [00:16<00:00,  2.31s/it]\n"
     ]
    },
    {
     "name": "stdout",
     "output_type": "stream",
     "text": [
      "d8d7 23900\n",
      "r . b . k . . r\n",
      "p p p q n p . p\n",
      ". n . p p . p .\n",
      ". . . . b . . .\n",
      "Q . P P P P . .\n",
      ". . N B . N . .\n",
      "P P . . . . P P\n",
      "R . B . . R K .\n"
     ]
    },
    {
     "name": "stderr",
     "output_type": "stream",
     "text": [
      "100%|████████████████████████████████████████████████████████████████████████████████| 44/44 [01:12<00:00,  1.65s/it]\n"
     ]
    },
    {
     "name": "stdout",
     "output_type": "stream",
     "text": [
      "f3e5 23900\n",
      "r . b . k . . r\n",
      "p p p q n p . p\n",
      ". n . p p . p .\n",
      ". . . . N . . .\n",
      "Q . P P P P . .\n",
      ". . N B . . . .\n",
      "P P . . . . P P\n",
      "R . B . . R K .\n"
     ]
    },
    {
     "name": "stderr",
     "output_type": "stream",
     "text": [
      "100%|████████████████████████████████████████████████████████████████████████████████| 27/27 [00:58<00:00,  2.16s/it]\n"
     ]
    },
    {
     "name": "stdout",
     "output_type": "stream",
     "text": [
      "b6d5 23900\n",
      "r . b . k . . r\n",
      "p p p q n p . p\n",
      ". . . p p . p .\n",
      ". . . n N . . .\n",
      "Q . P P P P . .\n",
      ". . N B . . . .\n",
      "P P . . . . P P\n",
      "R . B . . R K .\n"
     ]
    },
    {
     "name": "stderr",
     "output_type": "stream",
     "text": [
      "100%|████████████████████████████████████████████████████████████████████████████████| 45/45 [01:16<00:00,  1.70s/it]\n"
     ]
    },
    {
     "name": "stdout",
     "output_type": "stream",
     "text": [
      "e5f7 23900\n",
      "r . b . k . . r\n",
      "p p p q n N . p\n",
      ". . . p p . p .\n",
      ". . . n . . . .\n",
      "Q . P P P P . .\n",
      ". . N B . . . .\n",
      "P P . . . . P P\n",
      "R . B . . R K .\n"
     ]
    },
    {
     "name": "stderr",
     "output_type": "stream",
     "text": [
      "100%|████████████████████████████████████████████████████████████████████████████████| 28/28 [01:13<00:00,  2.64s/it]\n"
     ]
    },
    {
     "name": "stdout",
     "output_type": "stream",
     "text": [
      "e7g8 23900\n",
      "r . b . k . n r\n",
      "p p p q . N . p\n",
      ". . . p p . p .\n",
      ". . . n . . . .\n",
      "Q . P P P P . .\n",
      ". . N B . . . .\n",
      "P P . . . . P P\n",
      "R . B . . R K .\n"
     ]
    },
    {
     "name": "stderr",
     "output_type": "stream",
     "text": [
      "100%|████████████████████████████████████████████████████████████████████████████████| 46/46 [01:06<00:00,  1.45s/it]\n"
     ]
    },
    {
     "name": "stdout",
     "output_type": "stream",
     "text": [
      "f7d8 23900\n",
      "r . b N k . n r\n",
      "p p p q . . . p\n",
      ". . . p p . p .\n",
      ". . . n . . . .\n",
      "Q . P P P P . .\n",
      ". . N B . . . .\n",
      "P P . . . . P P\n",
      "R . B . . R K .\n"
     ]
    },
    {
     "name": "stderr",
     "output_type": "stream",
     "text": [
      "100%|████████████████████████████████████████████████████████████████████████████████| 27/27 [01:08<00:00,  2.54s/it]\n"
     ]
    },
    {
     "name": "stdout",
     "output_type": "stream",
     "text": [
      "g8e7 23900\n",
      "r . b N k . . r\n",
      "p p p q n . . p\n",
      ". . . p p . p .\n",
      ". . . n . . . .\n",
      "Q . P P P P . .\n",
      ". . N B . . . .\n",
      "P P . . . . P P\n",
      "R . B . . R K .\n"
     ]
    },
    {
     "name": "stderr",
     "output_type": "stream",
     "text": [
      "100%|████████████████████████████████████████████████████████████████████████████████| 44/44 [01:11<00:00,  1.63s/it]\n"
     ]
    },
    {
     "name": "stdout",
     "output_type": "stream",
     "text": [
      "d8f7 23900\n",
      "r . b . k . . r\n",
      "p p p q n N . p\n",
      ". . . p p . p .\n",
      ". . . n . . . .\n",
      "Q . P P P P . .\n",
      ". . N B . . . .\n",
      "P P . . . . P P\n",
      "R . B . . R K .\n"
     ]
    },
    {
     "name": "stderr",
     "output_type": "stream",
     "text": [
      "100%|████████████████████████████████████████████████████████████████████████████████| 28/28 [01:11<00:00,  2.57s/it]\n"
     ]
    },
    {
     "name": "stdout",
     "output_type": "stream",
     "text": [
      "e7g8 23900\n",
      "r . b . k . n r\n",
      "p p p q . N . p\n",
      ". . . p p . p .\n",
      ". . . n . . . .\n",
      "Q . P P P P . .\n",
      ". . N B . . . .\n",
      "P P . . . . P P\n",
      "R . B . . R K .\n"
     ]
    },
    {
     "name": "stderr",
     "output_type": "stream",
     "text": [
      "100%|████████████████████████████████████████████████████████████████████████████████| 46/46 [01:07<00:00,  1.47s/it]\n"
     ]
    },
    {
     "name": "stdout",
     "output_type": "stream",
     "text": [
      "f7d8 23900\n",
      "r . b N k . n r\n",
      "p p p q . . . p\n",
      ". . . p p . p .\n",
      ". . . n . . . .\n",
      "Q . P P P P . .\n",
      ". . N B . . . .\n",
      "P P . . . . P P\n",
      "R . B . . R K .\n"
     ]
    },
    {
     "name": "stderr",
     "output_type": "stream",
     "text": [
      "100%|████████████████████████████████████████████████████████████████████████████████| 27/27 [01:00<00:00,  2.23s/it]\n"
     ]
    },
    {
     "name": "stdout",
     "output_type": "stream",
     "text": [
      "g8e7 23900\n",
      "r . b N k . . r\n",
      "p p p q n . . p\n",
      ". . . p p . p .\n",
      ". . . n . . . .\n",
      "Q . P P P P . .\n",
      ". . N B . . . .\n",
      "P P . . . . P P\n",
      "R . B . . R K .\n"
     ]
    },
    {
     "name": "stderr",
     "output_type": "stream",
     "text": [
      "100%|████████████████████████████████████████████████████████████████████████████████| 44/44 [01:06<00:00,  1.52s/it]\n"
     ]
    },
    {
     "name": "stdout",
     "output_type": "stream",
     "text": [
      "d8f7 23900\n",
      "r . b . k . . r\n",
      "p p p q n N . p\n",
      ". . . p p . p .\n",
      ". . . n . . . .\n",
      "Q . P P P P . .\n",
      ". . N B . . . .\n",
      "P P . . . . P P\n",
      "R . B . . R K .\n"
     ]
    },
    {
     "name": "stderr",
     "output_type": "stream",
     "text": [
      "100%|████████████████████████████████████████████████████████████████████████████████| 28/28 [01:10<00:00,  2.51s/it]\n"
     ]
    },
    {
     "name": "stdout",
     "output_type": "stream",
     "text": [
      "e7g8 23900\n",
      "r . b . k . n r\n",
      "p p p q . N . p\n",
      ". . . p p . p .\n",
      ". . . n . . . .\n",
      "Q . P P P P . .\n",
      ". . N B . . . .\n",
      "P P . . . . P P\n",
      "R . B . . R K .\n"
     ]
    },
    {
     "name": "stderr",
     "output_type": "stream",
     "text": [
      "100%|████████████████████████████████████████████████████████████████████████████████| 46/46 [01:06<00:00,  1.45s/it]\n"
     ]
    },
    {
     "name": "stdout",
     "output_type": "stream",
     "text": [
      "f7d8 23900\n",
      "r . b N k . n r\n",
      "p p p q . . . p\n",
      ". . . p p . p .\n",
      ". . . n . . . .\n",
      "Q . P P P P . .\n",
      ". . N B . . . .\n",
      "P P . . . . P P\n",
      "R . B . . R K .\n"
     ]
    },
    {
     "name": "stderr",
     "output_type": "stream",
     "text": [
      "100%|████████████████████████████████████████████████████████████████████████████████| 27/27 [00:59<00:00,  2.20s/it]\n"
     ]
    },
    {
     "name": "stdout",
     "output_type": "stream",
     "text": [
      "g8e7 23900\n",
      "r . b N k . . r\n",
      "p p p q n . . p\n",
      ". . . p p . p .\n",
      ". . . n . . . .\n",
      "Q . P P P P . .\n",
      ". . N B . . . .\n",
      "P P . . . . P P\n",
      "R . B . . R K .\n"
     ]
    },
    {
     "name": "stderr",
     "output_type": "stream",
     "text": [
      "100%|████████████████████████████████████████████████████████████████████████████████| 44/44 [01:08<00:00,  1.56s/it]\n"
     ]
    },
    {
     "name": "stdout",
     "output_type": "stream",
     "text": [
      "d8f7 23900\n",
      "r . b . k . . r\n",
      "p p p q n N . p\n",
      ". . . p p . p .\n",
      ". . . n . . . .\n",
      "Q . P P P P . .\n",
      ". . N B . . . .\n",
      "P P . . . . P P\n",
      "R . B . . R K .\n"
     ]
    },
    {
     "name": "stderr",
     "output_type": "stream",
     "text": [
      "100%|████████████████████████████████████████████████████████████████████████████████| 28/28 [01:10<00:00,  2.52s/it]\n"
     ]
    },
    {
     "name": "stdout",
     "output_type": "stream",
     "text": [
      "e7g8 23900\n",
      "r . b . k . n r\n",
      "p p p q . N . p\n",
      ". . . p p . p .\n",
      ". . . n . . . .\n",
      "Q . P P P P . .\n",
      ". . N B . . . .\n",
      "P P . . . . P P\n",
      "R . B . . R K .\n"
     ]
    },
    {
     "name": "stderr",
     "output_type": "stream",
     "text": [
      "100%|████████████████████████████████████████████████████████████████████████████████| 46/46 [01:05<00:00,  1.43s/it]\n"
     ]
    },
    {
     "name": "stdout",
     "output_type": "stream",
     "text": [
      "f7d8 23900\n",
      "r . b N k . n r\n",
      "p p p q . . . p\n",
      ". . . p p . p .\n",
      ". . . n . . . .\n",
      "Q . P P P P . .\n",
      ". . N B . . . .\n",
      "P P . . . . P P\n",
      "R . B . . R K .\n"
     ]
    },
    {
     "name": "stderr",
     "output_type": "stream",
     "text": [
      "100%|████████████████████████████████████████████████████████████████████████████████| 27/27 [01:01<00:00,  2.27s/it]\n"
     ]
    },
    {
     "name": "stdout",
     "output_type": "stream",
     "text": [
      "g8e7 23900\n",
      "r . b N k . . r\n",
      "p p p q n . . p\n",
      ". . . p p . p .\n",
      ". . . n . . . .\n",
      "Q . P P P P . .\n",
      ". . N B . . . .\n",
      "P P . . . . P P\n",
      "R . B . . R K .\n"
     ]
    },
    {
     "name": "stderr",
     "output_type": "stream",
     "text": [
      "100%|████████████████████████████████████████████████████████████████████████████████| 44/44 [01:06<00:00,  1.50s/it]\n"
     ]
    },
    {
     "name": "stdout",
     "output_type": "stream",
     "text": [
      "d8b7 23900\n",
      "r . b . k . . r\n",
      "p N p q n . . p\n",
      ". . . p p . p .\n",
      ". . . n . . . .\n",
      "Q . P P P P . .\n",
      ". . N B . . . .\n",
      "P P . . . . P P\n",
      "R . B . . R K .\n"
     ]
    },
    {
     "name": "stderr",
     "output_type": "stream",
     "text": [
      "100%|████████████████████████████████████████████████████████████████████████████████| 27/27 [01:02<00:00,  2.32s/it]\n"
     ]
    },
    {
     "name": "stdout",
     "output_type": "stream",
     "text": [
      "h8g8 23900\n",
      "r . b . k . r .\n",
      "p N p q n . . p\n",
      ". . . p p . p .\n",
      ". . . n . . . .\n",
      "Q . P P P P . .\n",
      ". . N B . . . .\n",
      "P P . . . . P P\n",
      "R . B . . R K .\n"
     ]
    },
    {
     "name": "stderr",
     "output_type": "stream",
     "text": [
      "100%|████████████████████████████████████████████████████████████████████████████████| 44/44 [00:58<00:00,  1.33s/it]\n"
     ]
    },
    {
     "name": "stdout",
     "output_type": "stream",
     "text": [
      "b7d8 23900\n",
      "r . b N k . r .\n",
      "p . p q n . . p\n",
      ". . . p p . p .\n",
      ". . . n . . . .\n",
      "Q . P P P P . .\n",
      ". . N B . . . .\n",
      "P P . . . . P P\n",
      "R . B . . R K .\n"
     ]
    },
    {
     "name": "stderr",
     "output_type": "stream",
     "text": [
      "100%|████████████████████████████████████████████████████████████████████████████████| 27/27 [01:00<00:00,  2.23s/it]\n"
     ]
    },
    {
     "name": "stdout",
     "output_type": "stream",
     "text": [
      "c8b7 23900\n",
      "r . . N k . r .\n",
      "p b p q n . . p\n",
      ". . . p p . p .\n",
      ". . . n . . . .\n",
      "Q . P P P P . .\n",
      ". . N B . . . .\n",
      "P P . . . . P P\n",
      "R . B . . R K .\n"
     ]
    },
    {
     "name": "stderr",
     "output_type": "stream",
     "text": [
      "100%|████████████████████████████████████████████████████████████████████████████████| 44/44 [01:25<00:00,  1.94s/it]\n"
     ]
    },
    {
     "name": "stdout",
     "output_type": "stream",
     "text": [
      "d8f7 23900\n",
      "r . . . k . r .\n",
      "p b p q n N . p\n",
      ". . . p p . p .\n",
      ". . . n . . . .\n",
      "Q . P P P P . .\n",
      ". . N B . . . .\n",
      "P P . . . . P P\n",
      "R . B . . R K .\n"
     ]
    },
    {
     "name": "stderr",
     "output_type": "stream",
     "text": [
      "100%|████████████████████████████████████████████████████████████████████████████████| 31/31 [01:25<00:00,  2.76s/it]\n"
     ]
    },
    {
     "name": "stdout",
     "output_type": "stream",
     "text": [
      "d7b5 23900\n",
      "r . . . k . r .\n",
      "p b p . n N . p\n",
      ". . . p p . p .\n",
      ". q . n . . . .\n",
      "Q . P P P P . .\n",
      ". . N B . . . .\n",
      "P P . . . . P P\n",
      "R . B . . R K .\n"
     ]
    },
    {
     "name": "stderr",
     "output_type": "stream",
     "text": [
      "100%|████████████████████████████████████████████████████████████████████████████████| 45/45 [01:41<00:00,  2.26s/it]\n"
     ]
    },
    {
     "name": "stdout",
     "output_type": "stream",
     "text": [
      "f7h8 23900\n",
      "r . . . k . r N\n",
      "p b p . n . . p\n",
      ". . . p p . p .\n",
      ". q . n . . . .\n",
      "Q . P P P P . .\n",
      ". . N B . . . .\n",
      "P P . . . . P P\n",
      "R . B . . R K .\n"
     ]
    },
    {
     "name": "stderr",
     "output_type": "stream",
     "text": [
      "100%|████████████████████████████████████████████████████████████████████████████████| 33/33 [01:34<00:00,  2.87s/it]\n"
     ]
    },
    {
     "name": "stdout",
     "output_type": "stream",
     "text": [
      "g8h8 23900\n",
      "r . . . k . . r\n",
      "p b p . n . . p\n",
      ". . . p p . p .\n",
      ". q . n . . . .\n",
      "Q . P P P P . .\n",
      ". . N B . . . .\n",
      "P P . . . . P P\n",
      "R . B . . R K .\n"
     ]
    },
    {
     "name": "stderr",
     "output_type": "stream",
     "text": [
      "100%|████████████████████████████████████████████████████████████████████████████████| 39/39 [01:22<00:00,  2.11s/it]\n"
     ]
    },
    {
     "name": "stdout",
     "output_type": "stream",
     "text": [
      "a4a7 23900\n",
      "r . . . k . . r\n",
      "Q b p . n . . p\n",
      ". . . p p . p .\n",
      ". q . n . . . .\n",
      ". . P P P P . .\n",
      ". . N B . . . .\n",
      "P P . . . . P P\n",
      "R . B . . R K .\n"
     ]
    },
    {
     "name": "stderr",
     "output_type": "stream",
     "text": [
      "  7%|█████▉                                                                           | 3/41 [00:10<02:11,  3.45s/it]\n"
     ]
    },
    {
     "ename": "KeyboardInterrupt",
     "evalue": "",
     "output_type": "error",
     "traceback": [
      "\u001b[31m---------------------------------------------------------------------------\u001b[39m",
      "\u001b[31mKeyboardInterrupt\u001b[39m                         Traceback (most recent call last)",
      "\u001b[36mCell\u001b[39m\u001b[36m \u001b[39m\u001b[32mIn[154]\u001b[39m\u001b[32m, line 3\u001b[39m\n\u001b[32m      1\u001b[39m board = chess.Board(\u001b[33m\"\u001b[39m\u001b[33mr1bqk2r/ppp1npbp/1n1pp1p1/8/2PPPP2/2NB1N2/PP4PP/R1BQ1RK1 b kq - 5 8\u001b[39m\u001b[33m\"\u001b[39m)\n\u001b[32m      2\u001b[39m \u001b[38;5;28;01mwhile\u001b[39;00m \u001b[38;5;129;01mnot\u001b[39;00m board.is_checkmate():\n\u001b[32m----> \u001b[39m\u001b[32m3\u001b[39m     bestMove = \u001b[43mminimax_root\u001b[49m\u001b[43m(\u001b[49m\u001b[43mboard\u001b[49m\u001b[43m)\u001b[49m\n\u001b[32m      4\u001b[39m     \u001b[38;5;28mprint\u001b[39m(bestMove,evaluation)\n\u001b[32m      5\u001b[39m     board.push(bestMove)\n",
      "\u001b[36mCell\u001b[39m\u001b[36m \u001b[39m\u001b[32mIn[151]\u001b[39m\u001b[32m, line 6\u001b[39m, in \u001b[36mminimax_root\u001b[39m\u001b[34m(board)\u001b[39m\n\u001b[32m      4\u001b[39m \u001b[38;5;28;01mfor\u001b[39;00m move \u001b[38;5;129;01min\u001b[39;00m tqdm(moves):\n\u001b[32m      5\u001b[39m     board.push(move)\n\u001b[32m----> \u001b[39m\u001b[32m6\u001b[39m     score = \u001b[43mminimax\u001b[49m\u001b[43m(\u001b[49m\u001b[43mboard\u001b[49m\u001b[43m,\u001b[49m\u001b[43m \u001b[49m\u001b[32;43m0\u001b[39;49m\u001b[43m)\u001b[49m\n\u001b[32m      7\u001b[39m     \u001b[38;5;28;01mif\u001b[39;00m score < evaluation:\n\u001b[32m      8\u001b[39m         evaluation = score\n",
      "\u001b[36mCell\u001b[39m\u001b[36m \u001b[39m\u001b[32mIn[151]\u001b[39m\u001b[32m, line 33\u001b[39m, in \u001b[36mminimax\u001b[39m\u001b[34m(board, depth)\u001b[39m\n\u001b[32m     31\u001b[39m \u001b[38;5;28;01mfor\u001b[39;00m move \u001b[38;5;129;01min\u001b[39;00m moves:\n\u001b[32m     32\u001b[39m     board.push(move)\n\u001b[32m---> \u001b[39m\u001b[32m33\u001b[39m     temp = \u001b[43mminimax\u001b[49m\u001b[43m(\u001b[49m\u001b[43mboard\u001b[49m\u001b[43m,\u001b[49m\u001b[43mdepth\u001b[49m\u001b[43m+\u001b[49m\u001b[32;43m1\u001b[39;49m\u001b[43m)\u001b[49m\n\u001b[32m     34\u001b[39m     value = \u001b[38;5;28mmin\u001b[39m(value,temp)\n\u001b[32m     35\u001b[39m     board.pop()\n",
      "\u001b[36mCell\u001b[39m\u001b[36m \u001b[39m\u001b[32mIn[151]\u001b[39m\u001b[32m, line 25\u001b[39m, in \u001b[36mminimax\u001b[39m\u001b[34m(board, depth)\u001b[39m\n\u001b[32m     23\u001b[39m \u001b[38;5;28;01mfor\u001b[39;00m move \u001b[38;5;129;01min\u001b[39;00m moves:\n\u001b[32m     24\u001b[39m     board.push(move)\n\u001b[32m---> \u001b[39m\u001b[32m25\u001b[39m     temp = \u001b[43mminimax\u001b[49m\u001b[43m(\u001b[49m\u001b[43mboard\u001b[49m\u001b[43m,\u001b[49m\u001b[43mdepth\u001b[49m\u001b[43m+\u001b[49m\u001b[32;43m1\u001b[39;49m\u001b[43m)\u001b[49m\n\u001b[32m     26\u001b[39m     value = \u001b[38;5;28mmax\u001b[39m(value,temp)\n\u001b[32m     27\u001b[39m     board.pop()\n",
      "\u001b[36mCell\u001b[39m\u001b[36m \u001b[39m\u001b[32mIn[151]\u001b[39m\u001b[32m, line 33\u001b[39m, in \u001b[36mminimax\u001b[39m\u001b[34m(board, depth)\u001b[39m\n\u001b[32m     31\u001b[39m \u001b[38;5;28;01mfor\u001b[39;00m move \u001b[38;5;129;01min\u001b[39;00m moves:\n\u001b[32m     32\u001b[39m     board.push(move)\n\u001b[32m---> \u001b[39m\u001b[32m33\u001b[39m     temp = \u001b[43mminimax\u001b[49m\u001b[43m(\u001b[49m\u001b[43mboard\u001b[49m\u001b[43m,\u001b[49m\u001b[43mdepth\u001b[49m\u001b[43m+\u001b[49m\u001b[32;43m1\u001b[39;49m\u001b[43m)\u001b[49m\n\u001b[32m     34\u001b[39m     value = \u001b[38;5;28mmin\u001b[39m(value,temp)\n\u001b[32m     35\u001b[39m     board.pop()\n",
      "\u001b[36mCell\u001b[39m\u001b[36m \u001b[39m\u001b[32mIn[151]\u001b[39m\u001b[32m, line 19\u001b[39m, in \u001b[36mminimax\u001b[39m\u001b[34m(board, depth)\u001b[39m\n\u001b[32m     17\u001b[39m moves = \u001b[38;5;28mlist\u001b[39m(board.legal_moves)\n\u001b[32m     18\u001b[39m \u001b[38;5;28;01mif\u001b[39;00m depth == DEPTH_LIMIT \u001b[38;5;129;01mor\u001b[39;00m board.is_game_over(): \n\u001b[32m---> \u001b[39m\u001b[32m19\u001b[39m     \u001b[38;5;28;01mreturn\u001b[39;00m \u001b[43mcalculate_score\u001b[49m\u001b[43m(\u001b[49m\u001b[43mboard\u001b[49m\u001b[43m)\u001b[49m\n\u001b[32m     20\u001b[39m \u001b[38;5;66;03m#pick best score for the opponent\u001b[39;00m\n\u001b[32m     21\u001b[39m \u001b[38;5;28;01mif\u001b[39;00m depth % \u001b[32m2\u001b[39m:\n",
      "\u001b[36mCell\u001b[39m\u001b[36m \u001b[39m\u001b[32mIn[139]\u001b[39m\u001b[32m, line 4\u001b[39m, in \u001b[36mcalculate_score\u001b[39m\u001b[34m(board)\u001b[39m\n\u001b[32m      2\u001b[39m black_score,white_score = \u001b[32m0\u001b[39m,\u001b[32m0\u001b[39m\n\u001b[32m      3\u001b[39m \u001b[38;5;28;01mfor\u001b[39;00m square \u001b[38;5;129;01min\u001b[39;00m chess.SQUARES:\n\u001b[32m----> \u001b[39m\u001b[32m4\u001b[39m     at_square = \u001b[43mboard\u001b[49m\u001b[43m.\u001b[49m\u001b[43mpiece_at\u001b[49m\u001b[43m(\u001b[49m\u001b[43msquare\u001b[49m\u001b[43m)\u001b[49m\n\u001b[32m      5\u001b[39m     \u001b[38;5;28;01mif\u001b[39;00m \u001b[38;5;129;01mnot\u001b[39;00m at_square: \u001b[38;5;28;01mcontinue\u001b[39;00m\n\u001b[32m      6\u001b[39m     \u001b[38;5;28;01mif\u001b[39;00m at_square.color == chess.WHITE:\n",
      "\u001b[36mFile \u001b[39m\u001b[32m~/Documents/GitHub/chess-bot/.venv/lib/python3.13/site-packages/chess/__init__.py:830\u001b[39m, in \u001b[36mBaseBoard.piece_at\u001b[39m\u001b[34m(self, square)\u001b[39m\n\u001b[32m    828\u001b[39m \u001b[38;5;28;01mif\u001b[39;00m piece_type:\n\u001b[32m    829\u001b[39m     mask = BB_SQUARES[square]\n\u001b[32m--> \u001b[39m\u001b[32m830\u001b[39m     color = \u001b[38;5;28;43mbool\u001b[39;49m\u001b[43m(\u001b[49m\u001b[38;5;28;43mself\u001b[39;49m\u001b[43m.\u001b[49m\u001b[43moccupied_co\u001b[49m\u001b[43m[\u001b[49m\u001b[43mWHITE\u001b[49m\u001b[43m]\u001b[49m\u001b[43m \u001b[49m\u001b[43m&\u001b[49m\u001b[43m \u001b[49m\u001b[43mmask\u001b[49m\u001b[43m)\u001b[49m\n\u001b[32m    831\u001b[39m     \u001b[38;5;28;01mreturn\u001b[39;00m Piece(piece_type, color)\n\u001b[32m    832\u001b[39m \u001b[38;5;28;01melse\u001b[39;00m:\n",
      "\u001b[31mKeyboardInterrupt\u001b[39m: "
     ]
    }
   ],
   "source": [
    "board = chess.Board(\"r1bqk2r/ppp1npbp/1n1pp1p1/8/2PPPP2/2NB1N2/PP4PP/R1BQ1RK1 b kq - 5 8\")\n",
    "while not board.is_checkmate():\n",
    "    bestMove = minimax_root(board)\n",
    "    print(bestMove,evaluation)\n",
    "    board.push(bestMove)\n",
    "    chess.svg.board(board)\n",
    "    print(board)\n"
   ]
  },
  {
   "cell_type": "code",
   "execution_count": null,
   "id": "d9b79534-d626-4518-90b4-dedd66402551",
   "metadata": {},
   "outputs": [],
   "source": []
  },
  {
   "cell_type": "code",
   "execution_count": null,
   "id": "d573c7e0-4648-463b-b823-81161a4127e6",
   "metadata": {},
   "outputs": [],
   "source": []
  }
 ],
 "metadata": {
  "kernelspec": {
   "display_name": "Python 3 (ipykernel)",
   "language": "python",
   "name": "python3"
  },
  "language_info": {
   "codemirror_mode": {
    "name": "ipython",
    "version": 3
   },
   "file_extension": ".py",
   "mimetype": "text/x-python",
   "name": "python",
   "nbconvert_exporter": "python",
   "pygments_lexer": "ipython3",
   "version": "3.13.2"
  }
 },
 "nbformat": 4,
 "nbformat_minor": 5
}
